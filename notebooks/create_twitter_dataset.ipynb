{
 "cells": [
  {
   "cell_type": "code",
   "execution_count": 1,
   "id": "1b8c7c23",
   "metadata": {},
   "outputs": [
    {
     "name": "stdout",
     "output_type": "stream",
     "text": [
      "(2693, 5)\n"
     ]
    },
    {
     "name": "stderr",
     "output_type": "stream",
     "text": [
      "/tmp/ipykernel_7831/1998977223.py:2: FutureWarning: Passing a negative integer is deprecated in version 1.0 and will not be supported in future version. Instead, use None to not limit the column width.\n",
      "  pd.set_option('display.max_colwidth', -1)\n"
     ]
    },
    {
     "data": {
      "text/html": [
       "<div>\n",
       "<style scoped>\n",
       "    .dataframe tbody tr th:only-of-type {\n",
       "        vertical-align: middle;\n",
       "    }\n",
       "\n",
       "    .dataframe tbody tr th {\n",
       "        vertical-align: top;\n",
       "    }\n",
       "\n",
       "    .dataframe thead th {\n",
       "        text-align: right;\n",
       "    }\n",
       "</style>\n",
       "<table border=\"1\" class=\"dataframe\">\n",
       "  <thead>\n",
       "    <tr style=\"text-align: right;\">\n",
       "      <th></th>\n",
       "      <th>row ID</th>\n",
       "      <th>Tweet</th>\n",
       "      <th>Time</th>\n",
       "      <th>Retweet from</th>\n",
       "      <th>User</th>\n",
       "    </tr>\n",
       "  </thead>\n",
       "  <tbody>\n",
       "    <tr>\n",
       "      <th>0</th>\n",
       "      <td>Row0</td>\n",
       "      <td>@MeltingIce Assuming max acceleration of 2 to 3 g's, but in a comfortable direction. Will feel like a mild to moder? https://t.co/fpjmEgrHfC</td>\n",
       "      <td>2017-09-29 17:39:19</td>\n",
       "      <td>NaN</td>\n",
       "      <td>elonmusk</td>\n",
       "    </tr>\n",
       "    <tr>\n",
       "      <th>2</th>\n",
       "      <td>Row2</td>\n",
       "      <td>@bigajm Yup :)</td>\n",
       "      <td>2017-09-29 10:39:57</td>\n",
       "      <td>NaN</td>\n",
       "      <td>elonmusk</td>\n",
       "    </tr>\n",
       "    <tr>\n",
       "      <th>3</th>\n",
       "      <td>Row3</td>\n",
       "      <td>Part 2 https://t.co/8Fvu57muhM</td>\n",
       "      <td>2017-09-29 09:56:12</td>\n",
       "      <td>NaN</td>\n",
       "      <td>elonmusk</td>\n",
       "    </tr>\n",
       "    <tr>\n",
       "      <th>4</th>\n",
       "      <td>Row4</td>\n",
       "      <td>Fly to most places on Earth in under 30 mins and anywhere in under 60. Cost per seat should be? https://t.co/dGYDdGttYd</td>\n",
       "      <td>2017-09-29 09:19:21</td>\n",
       "      <td>NaN</td>\n",
       "      <td>elonmusk</td>\n",
       "    </tr>\n",
       "    <tr>\n",
       "      <th>6</th>\n",
       "      <td>Row6</td>\n",
       "      <td>BFR will take you anywhere on Earth in less than 60 mins https://t.co/HWt9BZ1FI9</td>\n",
       "      <td>2017-09-29 08:53:00</td>\n",
       "      <td>NaN</td>\n",
       "      <td>elonmusk</td>\n",
       "    </tr>\n",
       "  </tbody>\n",
       "</table>\n",
       "</div>"
      ],
      "text/plain": [
       "  row ID  \\\n",
       "0  Row0    \n",
       "2  Row2    \n",
       "3  Row3    \n",
       "4  Row4    \n",
       "6  Row6    \n",
       "\n",
       "                                                                                                                                          Tweet  \\\n",
       "0  @MeltingIce Assuming max acceleration of 2 to 3 g's, but in a comfortable direction. Will feel like a mild to moder? https://t.co/fpjmEgrHfC   \n",
       "2  @bigajm Yup :)                                                                                                                                 \n",
       "3  Part 2 https://t.co/8Fvu57muhM                                                                                                                 \n",
       "4  Fly to most places on Earth in under 30 mins and anywhere in under 60. Cost per seat should be? https://t.co/dGYDdGttYd                        \n",
       "6  BFR will take you anywhere on Earth in less than 60 mins https://t.co/HWt9BZ1FI9                                                               \n",
       "\n",
       "                  Time Retweet from      User  \n",
       "0  2017-09-29 17:39:19  NaN          elonmusk  \n",
       "2  2017-09-29 10:39:57  NaN          elonmusk  \n",
       "3  2017-09-29 09:56:12  NaN          elonmusk  \n",
       "4  2017-09-29 09:19:21  NaN          elonmusk  \n",
       "6  2017-09-29 08:53:00  NaN          elonmusk  "
      ]
     },
     "execution_count": 1,
     "metadata": {},
     "output_type": "execute_result"
    }
   ],
   "source": [
    "import pandas as pd\n",
    "pd.set_option('display.max_colwidth', -1)\n",
    "\n",
    "df = pd.read_csv('../data/raw/data_elonmusk.csv', encoding='latin1')\n",
    "df = df[df['Retweet from'].isna()]\n",
    "print(df.shape)\n",
    "df.head()"
   ]
  },
  {
   "cell_type": "markdown",
   "id": "b6a2fe5e",
   "metadata": {},
   "source": [
    "# Clearing"
   ]
  },
  {
   "cell_type": "code",
   "execution_count": 2,
   "id": "be2f0e14",
   "metadata": {},
   "outputs": [
    {
     "name": "stdout",
     "output_type": "stream",
     "text": [
      "Requirement already satisfied: twitter-text-parser in /home/denra/.cache/pypoetry/virtualenvs/elon-musk-dataset-XoKwTToE-py3.8/lib/python3.8/site-packages (2.0.0)\n",
      "Requirement already satisfied: attrs~=19.3.0 in /home/denra/.cache/pypoetry/virtualenvs/elon-musk-dataset-XoKwTToE-py3.8/lib/python3.8/site-packages (from twitter-text-parser) (19.3.0)\n",
      "\u001b[33mWARNING: You are using pip version 21.1.2; however, version 21.2.4 is available.\n",
      "You should consider upgrading via the '/home/denra/.cache/pypoetry/virtualenvs/elon-musk-dataset-XoKwTToE-py3.8/bin/python -m pip install --upgrade pip' command.\u001b[0m\n"
     ]
    }
   ],
   "source": [
    "!pip install twitter-text-parser"
   ]
  },
  {
   "cell_type": "code",
   "execution_count": 3,
   "id": "23acb49b",
   "metadata": {},
   "outputs": [],
   "source": [
    "import re\n",
    "from twitter_text import extract_urls\n",
    "\n",
    "mention_pattern = r'\\@[a-z_\\-]+'\n",
    "hashtag_pattern = r'\\#[a-z]+'\n",
    "spaces_pattern = r'\\s+'\n",
    "pattern = r'^.{,}'\n",
    "\n",
    "def clean_tweet(text):\n",
    "    # todo: replace series of urls with corresponding text parts\n",
    "    for url in extract_urls(text):\n",
    "        text = text.replace(url, '')\n",
    "    text = re.sub(mention_pattern, '', text, flags=re.I)\n",
    "    text = re.sub(hashtag_pattern, '', text, flags=re.I)\n",
    "    text = text.replace('?:', '')\n",
    "    text = re.sub(spaces_pattern, ' ', text).strip()\n",
    "\n",
    "    return text"
   ]
  },
  {
   "cell_type": "code",
   "execution_count": 4,
   "id": "2847d344",
   "metadata": {},
   "outputs": [
    {
     "data": {
      "text/plain": [
       "0       Assuming max acceleration of 2 to 3 g's, but in a comfortable direction. Will feel like a mild to moder?                                \n",
       "2       Yup :)                                                                                                                                  \n",
       "3       Part 2                                                                                                                                  \n",
       "4       Fly to most places on Earth in under 30 mins and anywhere in under 60. Cost per seat should be?                                         \n",
       "6       BFR will take you anywhere on Earth in less than 60 mins                                                                                \n",
       "                                  ...                                                                                                           \n",
       "3212    Mass. judge denies auto dealers' demand to kill our little Tesla store. Yay, justice prevails!                                          \n",
       "3213    Amos's article was fair, but his editor chose a more sensational headline & used quotes even though I didn't actually say that.         \n",
       "3214    These articles in Space News describe why Ariane 6 vs 5: and                                                                            \n",
       "3215    Was misquoted by BBC as saying Europe's rocket has no chance. Just said the [Franco-German] Ariane 5 has no chance, so go with Ariane 6.\n",
       "3216    Just returned from a trip to London and Oxford, where I met with many interesting people. I really like Britain!                        \n",
       "Name: Tweet, Length: 2693, dtype: object"
      ]
     },
     "execution_count": 4,
     "metadata": {},
     "output_type": "execute_result"
    }
   ],
   "source": [
    "tweets = df.Tweet.apply(clean_tweet)\n",
    "tweets"
   ]
  },
  {
   "cell_type": "markdown",
   "id": "cfc8b9c4",
   "metadata": {},
   "source": [
    "# Create dataset"
   ]
  },
  {
   "cell_type": "code",
   "execution_count": 15,
   "id": "85fefcc5",
   "metadata": {},
   "outputs": [],
   "source": [
    "tweets.name = 'phrase'\n",
    "tweets = tweets.dropna().drop_duplicates()\n",
    "tweets = tweets[tweets != '']\n",
    "tweets.to_csv('../data/datasets/twitter_dataset.csv', index=False)"
   ]
  }
 ],
 "metadata": {
  "kernelspec": {
   "display_name": "Python 3 (ipykernel)",
   "language": "python",
   "name": "python3"
  },
  "language_info": {
   "codemirror_mode": {
    "name": "ipython",
    "version": 3
   },
   "file_extension": ".py",
   "mimetype": "text/x-python",
   "name": "python",
   "nbconvert_exporter": "python",
   "pygments_lexer": "ipython3",
   "version": "3.8.5"
  }
 },
 "nbformat": 4,
 "nbformat_minor": 5
}
