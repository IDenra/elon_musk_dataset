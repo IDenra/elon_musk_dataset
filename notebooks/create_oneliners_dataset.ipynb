{
 "cells": [
  {
   "cell_type": "code",
   "execution_count": 1,
   "id": "784722e7",
   "metadata": {},
   "outputs": [
    {
     "name": "stdout",
     "output_type": "stream",
     "text": [
      "Requirement already satisfied: nltk in /home/denra/.cache/pypoetry/virtualenvs/elon-musk-dataset-XoKwTToE-py3.8/lib/python3.8/site-packages (3.6.5)\n",
      "Requirement already satisfied: joblib in /home/denra/.cache/pypoetry/virtualenvs/elon-musk-dataset-XoKwTToE-py3.8/lib/python3.8/site-packages (from nltk) (1.1.0)\n",
      "Requirement already satisfied: tqdm in /home/denra/.cache/pypoetry/virtualenvs/elon-musk-dataset-XoKwTToE-py3.8/lib/python3.8/site-packages (from nltk) (4.62.3)\n",
      "Requirement already satisfied: click in /home/denra/.cache/pypoetry/virtualenvs/elon-musk-dataset-XoKwTToE-py3.8/lib/python3.8/site-packages (from nltk) (8.0.3)\n",
      "Requirement already satisfied: regex>=2021.8.3 in /home/denra/.cache/pypoetry/virtualenvs/elon-musk-dataset-XoKwTToE-py3.8/lib/python3.8/site-packages (from nltk) (2021.10.8)\n",
      "\u001b[33mWARNING: You are using pip version 21.1.2; however, version 21.2.4 is available.\n",
      "You should consider upgrading via the '/home/denra/.cache/pypoetry/virtualenvs/elon-musk-dataset-XoKwTToE-py3.8/bin/python -m pip install --upgrade pip' command.\u001b[0m\n"
     ]
    }
   ],
   "source": [
    "!pip install nltk"
   ]
  },
  {
   "cell_type": "code",
   "execution_count": 30,
   "id": "5e78563f",
   "metadata": {},
   "outputs": [
    {
     "name": "stderr",
     "output_type": "stream",
     "text": [
      "[nltk_data] Downloading package punkt to /home/denra/nltk_data...\n",
      "[nltk_data]   Package punkt is already up-to-date!\n"
     ]
    },
    {
     "data": {
      "text/plain": [
       "True"
      ]
     },
     "execution_count": 30,
     "metadata": {},
     "output_type": "execute_result"
    }
   ],
   "source": [
    "import nltk\n",
    "nltk.download('punkt')"
   ]
  },
  {
   "cell_type": "code",
   "execution_count": 47,
   "id": "c5e83f55",
   "metadata": {},
   "outputs": [],
   "source": [
    "import pandas as pd\n",
    "twitter_dataset = pd.read_csv('../data/datasets/twitter_dataset.csv')\n",
    "interview_phrases_dataset = pd.read_csv('../data/datasets/all_phrases_dataset.csv')\n",
    "united_dataset = pd.concat([interview_phrases_dataset, twitter_dataset]).dropna().drop_duplicates()"
   ]
  },
  {
   "cell_type": "code",
   "execution_count": 33,
   "id": "076dd176",
   "metadata": {},
   "outputs": [
    {
     "data": {
      "text/plain": [
       "((4687, 1), (8630, 1))"
      ]
     },
     "execution_count": 33,
     "metadata": {},
     "output_type": "execute_result"
    }
   ],
   "source": [
    "from nltk import sent_tokenize\n",
    "\n",
    "def create_oneliners_dataset(df):\n",
    "    x = df.phrase.apply(sent_tokenize)\n",
    "    return x.explode().reset_index().drop('index', axis=1)\n",
    "\n",
    "all_phrases_oneliners_dataset = create_oneliners_dataset(united_dataset)\n",
    "interview_phrases_oneliners_dataset = create_oneliners_dataset(interview_phrases_dataset)\n",
    "\n",
    "interview_phrases_oneliners_dataset.shape, all_phrases_oneliners_dataset.shape"
   ]
  },
  {
   "cell_type": "code",
   "execution_count": 51,
   "id": "9bbd8801",
   "metadata": {},
   "outputs": [],
   "source": [
    "interview_phrases_oneliners_dataset.to_csv('../data/datasets/interview_oneliners_dataset.csv', index=False)\n",
    "all_phrases_oneliners_dataset.to_csv('../data/datasets/all_oneliners_dataset.csv', index=False)"
   ]
  }
 ],
 "metadata": {
  "kernelspec": {
   "display_name": "Python 3 (ipykernel)",
   "language": "python",
   "name": "python3"
  },
  "language_info": {
   "codemirror_mode": {
    "name": "ipython",
    "version": 3
   },
   "file_extension": ".py",
   "mimetype": "text/x-python",
   "name": "python",
   "nbconvert_exporter": "python",
   "pygments_lexer": "ipython3",
   "version": "3.8.5"
  }
 },
 "nbformat": 4,
 "nbformat_minor": 5
}
